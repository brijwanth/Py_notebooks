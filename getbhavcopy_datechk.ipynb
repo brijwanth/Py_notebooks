{
 "cells": [
  {
   "cell_type": "markdown",
   "metadata": {},
   "source": [
    "# Data Tool to find missing Dates in Amibroker"
   ]
  },
  {
   "cell_type": "markdown",
   "metadata": {},
   "source": [
    "This program is used to check if specific date's quote is missing in amibroker. We export excel file containing all date wise quotations and isolate date wise data of a specific script"
   ]
  },
  {
   "cell_type": "code",
   "execution_count": 1,
   "metadata": {},
   "outputs": [],
   "source": [
    "import datetime as dt"
   ]
  },
  {
   "cell_type": "code",
   "execution_count": 2,
   "metadata": {},
   "outputs": [],
   "source": [
    "# read csv file\n",
    "\n",
    "opened_file= open('dates.csv') # Dates file\n",
    "from csv import reader\n",
    "read_file = reader(opened_file)\n",
    "dates_data = list(read_file)\n",
    "\n",
    "opened_file= open('holidays_2020.csv') #holidays manually extracted from NSE from 2003 to 2020\n",
    "from csv import reader\n",
    "read_file = reader(opened_file)\n",
    "holidays_data = list(read_file)\n"
   ]
  },
  {
   "cell_type": "code",
   "execution_count": 3,
   "metadata": {},
   "outputs": [],
   "source": [
    "start_dt = dt.datetime(2003,1,1) # period to check\n",
    "end_dt = dt.datetime(2019,12,30) # iseally today if holidays file is updated"
   ]
  },
  {
   "cell_type": "code",
   "execution_count": 4,
   "metadata": {},
   "outputs": [],
   "source": [
    "clean_list = []\n",
    "for ele in dates_data:\n",
    "    temp_val = str(ele[0])\n",
    "    clean_list.append(temp_val)\n"
   ]
  },
  {
   "cell_type": "code",
   "execution_count": 5,
   "metadata": {},
   "outputs": [],
   "source": [
    "cleaned_holidays = []\n",
    "for ele in holidays_data:\n",
    "    temp_val = str(ele[0])\n",
    "    cleaned_holidays.append(temp_val)\n"
   ]
  },
  {
   "cell_type": "markdown",
   "metadata": {},
   "source": [
    "We have extracted the data and cleaned the lists. We check if its saturday or sunday or the quote is already in list"
   ]
  },
  {
   "cell_type": "code",
   "execution_count": 6,
   "metadata": {},
   "outputs": [],
   "source": [
    "list_doubtful=[] \n",
    "temp_dt = start_dt\n",
    "\n",
    "\n",
    "while temp_dt <= end_dt:\n",
    "    temp_str = temp_dt.strftime('%d-%m-%Y')\n",
    "    if temp_str not in clean_list:\n",
    "        if ((temp_dt.isoweekday() == 6) or (temp_dt.isoweekday() == 7)):\n",
    "            pass\n",
    "        else:\n",
    "            list_doubtful.append(temp_dt)\n",
    "\n",
    "    temp_dt += dt.timedelta(days=1)\n"
   ]
  },
  {
   "cell_type": "markdown",
   "metadata": {},
   "source": [
    "We are now checking for holidays"
   ]
  },
  {
   "cell_type": "code",
   "execution_count": 7,
   "metadata": {},
   "outputs": [
    {
     "name": "stdout",
     "output_type": "stream",
     "text": [
      "['26-Apr-04', '13-Oct-04', '28-Jul-05', '04-Nov-05', '30-May-08', '27-Nov-08', '30-Apr-09', '13-Oct-09', '02-Jun-14', '03-Jun-14', '19-Jun-14', '20-Jun-14', '08-Jul-14', '09-Jul-14', '31-Oct-14', '06-Aug-15', '07-Aug-15', '21-Aug-15', '25-Aug-15', '26-Aug-15', '31-Dec-15', '01-Jan-16', '06-Apr-16', '10-May-16', '31-Jul-17', '27-Dec-18']\n"
     ]
    }
   ],
   "source": [
    "list_exception = []\n",
    "\n",
    "for ele in list_doubtful:\n",
    "    temp_str_conv = ele.strftime('%d-%b-%y')\n",
    "    if temp_str_conv not in cleaned_holidays:\n",
    "        list_exception.append(temp_str_conv)\n",
    "\n",
    "print(list_exception)"
   ]
  }
 ],
 "metadata": {
  "kernelspec": {
   "display_name": "Python 3",
   "language": "python",
   "name": "python3"
  },
  "language_info": {
   "codemirror_mode": {
    "name": "ipython",
    "version": 3
   },
   "file_extension": ".py",
   "mimetype": "text/x-python",
   "name": "python",
   "nbconvert_exporter": "python",
   "pygments_lexer": "ipython3",
   "version": "3.6.4"
  }
 },
 "nbformat": 4,
 "nbformat_minor": 4
}
